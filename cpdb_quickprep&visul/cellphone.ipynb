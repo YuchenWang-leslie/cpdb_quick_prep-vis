{
 "cells": [
  {
   "cell_type": "code",
   "execution_count": null,
   "id": "332e162a",
   "metadata": {},
   "outputs": [],
   "source": [
    "import pandas as pd\n",
    "import glob\n",
    "import os\n",
    "\n",
    "from IPython.display import HTML, display\n",
    "from cellphonedb.utils import db_releases_utils"
   ]
  },
  {
   "cell_type": "code",
   "execution_count": null,
   "id": "ecaba403",
   "metadata": {},
   "outputs": [],
   "source": [
    "# 从adata准备所需数据（分组）\n",
    "import scanpy as sc\n",
    "import numpy as np\n",
    "from scipy import stats\n",
    "import os\n",
    "from statsmodels.stats.multitest import multipletests"
   ]
  },
  {
   "cell_type": "code",
   "execution_count": null,
   "id": "beac65b5",
   "metadata": {},
   "outputs": [],
   "source": [
    "display(HTML(db_releases_utils.get_remote_database_versions_html()['db_releases_html_table']))\n",
    "os.chdir('/home/wyc')\n",
    "cpdb_version = 'v5.0.0'\n",
    "\n",
    "# -- Path where the input files to generate the database are located\n",
    "cpdb_target_dir = os.path.join('./cellphonedb_v500_NatProtocol/', cpdb_version)\n",
    "cpdb_target_dir\n",
    "os.makedirs(cpdb_target_dir, exist_ok=True)\n",
    "from cellphonedb.utils import db_utils\n",
    "db_utils.download_database(cpdb_target_dir, cpdb_version)"
   ]
  },
  {
   "cell_type": "code",
   "execution_count": null,
   "id": "4e693be8",
   "metadata": {},
   "outputs": [],
   "source": [
    "!pip list | grep scanpy\n",
    "!pip list | grep cellphonedb"
   ]
  },
  {
   "cell_type": "code",
   "execution_count": null,
   "id": "8a391144",
   "metadata": {},
   "outputs": [],
   "source": [
    "adata= sc.read_h5ad('/home/wyc/AMD/01_cleandata/Final_Annotation.h5ad')"
   ]
  },
  {
   "cell_type": "code",
   "execution_count": null,
   "id": "fe212d9c",
   "metadata": {},
   "outputs": [],
   "source": [
    "os.chdir('/home/wyc/AMD/res/cellphoneDB')\n",
    "output_dir = \"cellphonedb_input\"\n",
    "os.makedirs(output_dir, exist_ok=True)"
   ]
  },
  {
   "cell_type": "code",
   "execution_count": null,
   "id": "16c1ec0c",
   "metadata": {},
   "outputs": [],
   "source": [
    "# 创建输出目录\n",
    "output_dir = \"cellphonedb_input\"\n",
    "os.makedirs(output_dir, exist_ok=True)\n",
    "\n",
    "# 获取分组信息\n",
    "groups = adata.obs['age_disease'].dropna().unique()\n",
    "\n",
    "# 为每个分组生成文件\n",
    "for group in groups:\n",
    "    print(f\"\\n===== 处理分组: {group} =====\")\n",
    "    group_dir = os.path.join(output_dir, group)\n",
    "    os.makedirs(group_dir, exist_ok=True)\n",
    "    \n",
    "    # 1. 创建子集\n",
    "    group_mask = adata.obs['age_disease'] == group\n",
    "    adata_group = adata[group_mask].copy()\n",
    "    \n",
    "    # 2. 过滤细胞数量不足的细胞类型\n",
    "    # 计算每个细胞类型的细胞数量\n",
    "    celltype_counts = adata_group.obs['final_annotation'].value_counts()\n",
    "    # 保留细胞数量≥20的细胞类型\n",
    "    valid_celltypes = celltype_counts[celltype_counts >= 20].index.tolist()\n",
    "    \n",
    "    if not valid_celltypes:\n",
    "        print(f\"警告: 分组 {group} 中没有细胞类型满足≥20个细胞的条件，跳过此分组\")\n",
    "        continue\n",
    "    \n",
    "    # 应用过滤\n",
    "    valid_mask = adata_group.obs['final_annotation'].isin(valid_celltypes)\n",
    "    adata_group = adata_group[valid_mask].copy()\n",
    "    \n",
    "    print(f\"保留细胞类型: {', '.join(valid_celltypes)}\")\n",
    "    print(f\"细胞数量: {adata_group.n_obs}\")\n",
    "    \n",
    "    # 3. 准备meta文件 (Cell, cell_type) - TSV格式\n",
    "    meta_df = pd.DataFrame({\n",
    "        'Cell': adata_group.obs_names,\n",
    "        'cell_type': adata_group.obs['final_annotation']\n",
    "    })\n",
    "    meta_path = os.path.join(group_dir, f\"{group}_meta.tsv\")\n",
    "    meta_df.to_csv(meta_path, sep='\\t', index=False)\n",
    "    print(f\"已保存metadata文件: {meta_path}\")\n",
    "    \n",
    "    # 4. 准备h5ad文件而不是counts文件\n",
    "    # 保存当前子集为h5ad文件\n",
    "    h5ad_path = os.path.join(group_dir, f\"{group}.h5ad\")\n",
    "    adata_group.write(h5ad_path)\n",
    "    print(f\"已保存h5ad文件: {h5ad_path}\")\n",
    "\n",
    "\n",
    "print(\"\\n===== 所有文件准备完成! =====\")\n",
    "print(f\"输出目录结构:\\n{output_dir}/\")\n",
    "for group in groups:\n",
    "    group_dir = os.path.join(output_dir, group)\n",
    "    if os.path.exists(group_dir):\n",
    "        print(f\"├── {group}/\")\n",
    "        print(f\"│   ├── {group}.h5ad\")\n",
    "        print(f\"│   └── {group}_meta.tsv\")"
   ]
  },
  {
   "cell_type": "code",
   "execution_count": null,
   "id": "33087d1e",
   "metadata": {},
   "outputs": [],
   "source": [
    "# 创建输出目录\n",
    "output_dir = \"cellphonedb_results\"\n",
    "os.makedirs(output_dir, exist_ok=True)"
   ]
  },
  {
   "cell_type": "code",
   "execution_count": null,
   "id": "9f81b431",
   "metadata": {},
   "outputs": [],
   "source": [
    "from cellphonedb.src.core.methods import cpdb_statistical_analysis_method\n",
    "\n",
    "#分每组进行stastistical分析\n",
    "for group in groups:\n",
    "    print(f\"\\n===== 处理分组: {group} =====\")\n",
    "    group_dir = os.path.join(output_dir, group)\n",
    "    os.makedirs(group_dir, exist_ok=True)\n",
    "    \n",
    "    # 获取输入文件路径\n",
    "    h5ad_file_path = os.path.join('cellphonedb_input', group, f'{group}.h5ad')\n",
    "    meta_file_path = os.path.join('cellphonedb_input', group, f'{group}_meta.tsv')\n",
    "    \n",
    "    # 使用Python API进行CellPhoneDB分析\n",
    "    \n",
    "    print(f\"开始对分组 {group} 进行CellPhoneDB分析...\")\n",
    "    \n",
    "    # 获取CellPhoneDB数据库文件路径\n",
    "    cpdb_file_path = '/home/wyc/cellphonedb_v500_NatProtocol/v5.0.0/cellphonedb.zip'\n",
    "    \n",
    "    # 运行CellPhoneDB分析\n",
    "    cpdb_results = cpdb_statistical_analysis_method.call(\n",
    "        cpdb_file_path=cpdb_file_path,           # CellphoneDB数据库文件\n",
    "        meta_file_path=meta_file_path,           # 元数据文件\n",
    "        counts_file_path=h5ad_file_path,         # AnnData对象\n",
    "        counts_data='hgnc_symbol',               # 基因注释类型\n",
    "        score_interactions=True,                 # 对交互进行评分\n",
    "        output_path=group_dir,                   # 结果保存路径\n",
    "        separator='|',                           # 结果中分隔细胞的字符串\n",
    "        threads=4,                               # 使用的线程数\n",
    "        threshold=0.1,                           # 基因表达的最小细胞百分比阈值\n",
    "        result_precision=3,                      # 结果精度\n",
    "        debug=False,                             # 是否保存中间表\n",
    "        output_suffix=f\"{group}_results\"         # 输出文件名后缀\n",
    "    )\n",
    "    \n",
    "    print(f\"已完成分组 {group} 的CellPhoneDB分析，结果保存在: {group_dir}\")"
   ]
  },
  {
   "cell_type": "code",
   "execution_count": null,
   "id": "596a9e46",
   "metadata": {},
   "outputs": [],
   "source": [
    "list(cpdb_results.keys())"
   ]
  },
  {
   "cell_type": "code",
   "execution_count": null,
   "id": "5cd7eeea",
   "metadata": {},
   "outputs": [],
   "source": [
    "cpdb_results['significant_means'].head(2)  # pvalues means significant_means CellSign_active_interactions deconvoluted"
   ]
  }
 ],
 "metadata": {
  "kernelspec": {
   "display_name": "cpdb",
   "language": "python",
   "name": "python3"
  },
  "language_info": {
   "codemirror_mode": {
    "name": "ipython",
    "version": 3
   },
   "file_extension": ".py",
   "mimetype": "text/x-python",
   "name": "python",
   "nbconvert_exporter": "python",
   "pygments_lexer": "ipython3",
   "version": "3.9.21"
  }
 },
 "nbformat": 4,
 "nbformat_minor": 5
}
